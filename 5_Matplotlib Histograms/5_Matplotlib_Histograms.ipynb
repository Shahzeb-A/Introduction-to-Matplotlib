{
  "nbformat": 4,
  "nbformat_minor": 0,
  "metadata": {
    "colab": {
      "provenance": []
    },
    "kernelspec": {
      "name": "python3",
      "display_name": "Python 3"
    },
    "language_info": {
      "name": "python"
    }
  },
  "cells": [
    {
      "cell_type": "code",
      "execution_count": null,
      "metadata": {
        "id": "ak0beBisH560"
      },
      "outputs": [],
      "source": [
        "# Histograms are bar charts where the y-axis contains the frequency of a variable"
      ]
    },
    {
      "cell_type": "code",
      "source": [
        "# Let's say you have blood sugar level of different patients in a hospital and you want to know:\n",
        "# 1) How many patients are Normal? ( Normal = 80-100 )\n",
        "# 2) How many patients are pre-diabetic? ( Pre-diabetic = 100-125 )\n",
        "# 3) How many are Diabetic? (Diabetic = 125 and above )"
      ],
      "metadata": {
        "id": "0d8kGh-qIMvy"
      },
      "execution_count": null,
      "outputs": []
    },
    {
      "cell_type": "code",
      "source": [
        "import matplotlib.pyplot as plt"
      ],
      "metadata": {
        "id": "N4AcTAnpKZeo"
      },
      "execution_count": 1,
      "outputs": []
    },
    {
      "cell_type": "code",
      "source": [
        "# For question 1, histogrma will be useful where different bar reperesents different Blood Sugar ranges and the Y-axis contains number of patients\n",
        "# with a specific sugar levels\n",
        "\n",
        "blood_sugar = [113, 85, 90, 150, 149, 88, 93, 115, 135, 80, 77, 82, 129]\n",
        "\n",
        "# I don't need the names of the patients because when you're working with histograms, you need only single DIMENSION array \n",
        "# y-axis will contain the frequency of those different numbers\n",
        "plt.hist(blood_sugar)\n",
        "# Now by default it'll plot 10 bins for you so in histogram there is a concept of \"bin\" or a \"bucket\" which is nothing but really a range \n",
        "# In our case we need 3 different ranges, like 80 to 100 , 100 to 125 and above 125 but by default histogram plotted 10 bins"
      ],
      "metadata": {
        "colab": {
          "base_uri": "https://localhost:8080/",
          "height": 338
        },
        "id": "bxN6Qt0iI40F",
        "outputId": "7850f8bd-87da-49f9-c48e-ea8462a7844d"
      },
      "execution_count": 4,
      "outputs": [
        {
          "output_type": "execute_result",
          "data": {
            "text/plain": [
              "(array([3., 3., 1., 0., 1., 1., 0., 2., 0., 2.]),\n",
              " array([ 77. ,  84.3,  91.6,  98.9, 106.2, 113.5, 120.8, 128.1, 135.4,\n",
              "        142.7, 150. ]),\n",
              " <BarContainer object of 10 artists>)"
            ]
          },
          "metadata": {},
          "execution_count": 4
        },
        {
          "output_type": "display_data",
          "data": {
            "text/plain": [
              "<Figure size 432x288 with 1 Axes>"
            ],
            "image/png": "[encoded data removed]"
          },
          "metadata": {
            "needs_background": "light"
          }
        }
      ]
    },
    {
      "cell_type": "code",
      "source": [
        "# So let's discover the bins parameter a little bit\n",
        "plt.hist(blood_sugar, bins=3)"
      ],
      "metadata": {
        "colab": {
          "base_uri": "https://localhost:8080/",
          "height": 319
        },
        "id": "EatN-OY_Mxaz",
        "outputId": "86d46710-2e41-45b7-f1d6-c8866a207f54"
      },
      "execution_count": 14,
      "outputs": [
        {
          "output_type": "execute_result",
          "data": {
            "text/plain": [
              "(array([7., 2., 4.]),\n",
              " array([ 77.        , 101.33333333, 125.66666667, 150.        ]),\n",
              " <BarContainer object of 3 artists>)"
            ]
          },
          "metadata": {},
          "execution_count": 14
        },
        {
          "output_type": "display_data",
          "data": {
            "text/plain": [
              "<Figure size 432x288 with 1 Axes>"
            ],
            "image/png": "[encoded data removed]"
          },
          "metadata": {
            "needs_background": "light"
          }
        }
      ]
    },
    {
      "cell_type": "code",
      "source": [
        "# Now 3 looks a bit better but we want these to be seprated and we can do that using rwidth parameter\n",
        "plt.hist(blood_sugar, bins=[80,100,125,150], rwidth=0.95)\n",
        "# So I have supplied a list in the bins arguement and I have said that 80-100 is one bar which is basically Normal\n",
        "# I also have said that 100-125 is one bar which is basically pre-diabetic\n",
        "# I have also said that 125 and any maximum values is one bar which is basically Diabetic"
      ],
      "metadata": {
        "colab": {
          "base_uri": "https://localhost:8080/",
          "height": 319
        },
        "id": "RK2PWA0RNmC1",
        "outputId": "e948cbee-3c87-4f0f-bf0d-5506bb92bb10"
      },
      "execution_count": 25,
      "outputs": [
        {
          "output_type": "execute_result",
          "data": {
            "text/plain": [
              "(array([6., 2., 4.]),\n",
              " array([ 80, 100, 125, 150]),\n",
              " <BarContainer object of 3 artists>)"
            ]
          },
          "metadata": {},
          "execution_count": 25
        },
        {
          "output_type": "display_data",
          "data": {
            "text/plain": [
              "<Figure size 432x288 with 1 Axes>"
            ],
            "image/png": "[encoded data removed]"
          },
          "metadata": {
            "needs_background": "light"
          }
        }
      ]
    },
    {
      "cell_type": "code",
      "source": [
        "# Check API for hist function on Pandas documentation for more further functions which you can pass"
      ],
      "metadata": {
        "id": "epplUfafN1Xo"
      },
      "execution_count": 26,
      "outputs": []
    },
    {
      "cell_type": "code",
      "source": [
        "# Color function: you can change the color\n",
        "plt.hist(blood_sugar, bins=[80,100,125,150], rwidth=0.95, color='black')"
      ],
      "metadata": {
        "colab": {
          "base_uri": "https://localhost:8080/",
          "height": 319
        },
        "id": "mU_2jou5PB1u",
        "outputId": "1aabe71f-5984-4f4a-89d8-20d75622169b"
      },
      "execution_count": 27,
      "outputs": [
        {
          "output_type": "execute_result",
          "data": {
            "text/plain": [
              "(array([6., 2., 4.]),\n",
              " array([ 80, 100, 125, 150]),\n",
              " <BarContainer object of 3 artists>)"
            ]
          },
          "metadata": {},
          "execution_count": 27
        },
        {
          "output_type": "display_data",
          "data": {
            "text/plain": [
              "<Figure size 432x288 with 1 Axes>"
            ],
            "image/png": "[encoded data removed]"
          },
          "metadata": {
            "needs_background": "light"
          }
        }
      ]
    },
    {
      "cell_type": "code",
      "source": [
        "# you can also have histtype set to be step, so in that case instead of the hard-rigid bar you'll have step like style\n",
        "plt.hist(blood_sugar, bins=[80,100,125,150], rwidth=0.95, color='black', histtype='step')"
      ],
      "metadata": {
        "colab": {
          "base_uri": "https://localhost:8080/",
          "height": 319
        },
        "id": "W1ZDmnoRPMu-",
        "outputId": "a4716c46-e2b5-4218-c953-db687c79a9a8"
      },
      "execution_count": 30,
      "outputs": [
        {
          "output_type": "execute_result",
          "data": {
            "text/plain": [
              "(array([6., 2., 4.]),\n",
              " array([ 80, 100, 125, 150]),\n",
              " [<matplotlib.patches.Polygon at 0x7ff7ee58df40>])"
            ]
          },
          "metadata": {},
          "execution_count": 30
        },
        {
          "output_type": "display_data",
          "data": {
            "text/plain": [
              "<Figure size 432x288 with 1 Axes>"
            ],
            "image/png": "[encoded data removed]"
          },
          "metadata": {
            "needs_background": "light"
          }
        }
      ]
    },
    {
      "cell_type": "code",
      "source": [
        "# Now let's say you have seprate data for blood sugar of man and blood sugar of woman\n",
        "blood_sugar_man = [113, 85, 90, 150, 149, 88, 93, 115, 135, 80, 77, 82, 129]\n",
        "blood_sugar_women = [67, 98, 89, 120, 133, 150, 84, 69, 89, 79, 120, 112, 100]"
      ],
      "metadata": {
        "id": "xTCtwAV6PrnQ"
      },
      "execution_count": 31,
      "outputs": []
    },
    {
      "cell_type": "code",
      "source": [
        "# Now you want to plot two histograms side by side, you can do that by just changing the first argument and make it an Array \n",
        "# also pass a list in the color function becuase we need two different colors to dituingush between them\n",
        "plt.hist([blood_sugar_man,blood_sugar_women], bins=[80,100,125,150], rwidth=0.95, color=['black','grey'])"
      ],
      "metadata": {
        "colab": {
          "base_uri": "https://localhost:8080/",
          "height": 338
        },
        "id": "WnKn3bzzQjMB",
        "outputId": "6d3a7c0a-892a-41b5-9205-ce5d419b9950"
      },
      "execution_count": 37,
      "outputs": [
        {
          "output_type": "execute_result",
          "data": {
            "text/plain": [
              "(array([[6., 2., 4.],\n",
              "        [4., 4., 2.]]),\n",
              " array([ 80, 100, 125, 150]),\n",
              " <a list of 2 BarContainer objects>)"
            ]
          },
          "metadata": {},
          "execution_count": 37
        },
        {
          "output_type": "display_data",
          "data": {
            "text/plain": [
              "<Figure size 432x288 with 1 Axes>"
            ],
            "image/png": "[encoded data removed]"
          },
          "metadata": {
            "needs_background": "light"
          }
        }
      ]
    },
    {
      "cell_type": "code",
      "source": [
        "# The thing is that it's missing labels and I can't recognize anything between them so always add labels\n",
        "plt.hist([blood_sugar_man,blood_sugar_women], bins=[80,100,125,150], rwidth=0.95, color=['black','grey'],label=['Blood Sugar Men', \"Blood Sugar Women\"])\n",
        "plt.legend()"
      ],
      "metadata": {
        "colab": {
          "base_uri": "https://localhost:8080/",
          "height": 283
        },
        "id": "VlCSLliQRdyL",
        "outputId": "dd1258ad-435f-4267-b94e-41d6a9462406"
      },
      "execution_count": 41,
      "outputs": [
        {
          "output_type": "execute_result",
          "data": {
            "text/plain": [
              "<matplotlib.legend.Legend at 0x7ff7ee194190>"
            ]
          },
          "metadata": {},
          "execution_count": 41
        },
        {
          "output_type": "display_data",
          "data": {
            "text/plain": [
              "<Figure size 432x288 with 1 Axes>"
            ],
            "image/png": "[encoded data removed]"
          },
          "metadata": {
            "needs_background": "light"
          }
        }
      ]
    },
    {
      "cell_type": "code",
      "source": [
        "# We can also set title and also x and y labels\n",
        "plt.xlabel(\"Blood Sugar\")\n",
        "plt.ylabel(\"Number of patients\")\n",
        "plt.title(\"Blood Sugar Analysis\")\n",
        "plt.hist([blood_sugar_man,blood_sugar_women], bins=[80,100,125,150], rwidth=0.95, color=['black','grey'],label=['Blood Sugar Men', \"Blood Sugar Women\"])\n",
        "plt.legend()\n",
        "# So you can do comparative analysis here"
      ],
      "metadata": {
        "colab": {
          "base_uri": "https://localhost:8080/",
          "height": 313
        },
        "id": "TxAdA3rvSMXw",
        "outputId": "9d718b75-28d7-4ee9-e5ef-2c0541395944"
      },
      "execution_count": 50,
      "outputs": [
        {
          "output_type": "execute_result",
          "data": {
            "text/plain": [
              "<matplotlib.legend.Legend at 0x7ff7edd90250>"
            ]
          },
          "metadata": {},
          "execution_count": 50
        },
        {
          "output_type": "display_data",
          "data": {
            "text/plain": [
              "<Figure size 432x288 with 1 Axes>"
            ],
            "image/png": "[encoded data removed]"
          },
          "metadata": {
            "needs_background": "light"
          }
        }
      ]
    },
    {
      "cell_type": "code",
      "source": [
        "# There is also an orientation property, so you can change it from vertical to horizontal\n",
        "plt.xlabel(\"Blood Sugar\")\n",
        "plt.ylabel(\"Number of patients\")\n",
        "plt.title(\"Blood Sugar Analysis\")\n",
        "plt.hist([blood_sugar_man,blood_sugar_women], bins=[80,100,125,150], rwidth=0.95, color=['black','grey'],label=['Blood Sugar Men', \"Blood Sugar Women\"],\n",
        "         orientation='horizontal')\n",
        "plt.legend()"
      ],
      "metadata": {
        "colab": {
          "base_uri": "https://localhost:8080/",
          "height": 313
        },
        "id": "0LRGDHKZTM6s",
        "outputId": "a2b484c0-c898-47b1-e7ba-3611c86f4cfb"
      },
      "execution_count": 49,
      "outputs": [
        {
          "output_type": "execute_result",
          "data": {
            "text/plain": [
              "<matplotlib.legend.Legend at 0x7ff7edefdcd0>"
            ]
          },
          "metadata": {},
          "execution_count": 49
        },
        {
          "output_type": "display_data",
          "data": {
            "text/plain": [
              "<Figure size 432x288 with 1 Axes>"
            ],
            "image/png": "[encoded data removed]"
          },
          "metadata": {
            "needs_background": "light"
          }
        }
      ]
    }
  ]
}