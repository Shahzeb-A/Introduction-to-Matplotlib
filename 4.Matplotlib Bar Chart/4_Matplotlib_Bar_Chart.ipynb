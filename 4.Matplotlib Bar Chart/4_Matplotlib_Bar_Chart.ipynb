{
  "nbformat": 4,
  "nbformat_minor": 0,
  "metadata": {
    "colab": {
      "provenance": []
    },
    "kernelspec": {
      "name": "python3",
      "display_name": "Python 3"
    },
    "language_info": {
      "name": "python"
    }
  },
  "cells": [
    {
      "cell_type": "code",
      "execution_count": 1,
      "metadata": {
        "id": "HkaKLOPU7Vw6"
      },
      "outputs": [],
      "source": [
        "# Today we are going to cover bar charts in matplotlib\n",
        "# In finance bar charts are use to compare revenue"
      ]
    },
    {
      "cell_type": "code",
      "source": [
        "import matplotlib.pyplot as plt"
      ],
      "metadata": {
        "id": "04YqkgrW756x"
      },
      "execution_count": 2,
      "outputs": []
    },
    {
      "cell_type": "code",
      "source": [
        "# We are going to use some statics data, let's say I have revenue for some companies\n",
        "company = [\"Google\", \"Amazon\", \"Microsoft\", \"Facebook\"]\n",
        "revenue = [90, 136, 89,27]"
      ],
      "metadata": {
        "id": "wz5nQXuB78s5"
      },
      "execution_count": 13,
      "outputs": []
    },
    {
      "cell_type": "code",
      "source": [
        "# Now I want to create a bar chart out of this data\n",
        "plt.bar(company,revenue, label='revenue')\n",
        "plt.xlabel(\"Company\")\n",
        "# No need for y label as Revenue because we already know we are comparing revenue\n",
        "plt.title(\"US Tech Stocks\")\n",
        "plt.legend()"
      ],
      "metadata": {
        "colab": {
          "base_uri": "https://localhost:8080/",
          "height": 313
        },
        "id": "PY10VR3K8VRL",
        "outputId": "db0c19d2-ec32-4159-8534-fc2e9b70401a"
      },
      "execution_count": 14,
      "outputs": [
        {
          "output_type": "execute_result",
          "data": {
            "text/plain": [
              "<matplotlib.legend.Legend at 0x7f2554bd3e20>"
            ]
          },
          "metadata": {},
          "execution_count": 14
        },
        {
          "output_type": "display_data",
          "data": {
            "text/plain": [
              "<Figure size 432x288 with 1 Axes>"
            ],
            "image/png": "[encoded data removed]"
          },
          "metadata": {
            "needs_background": "light"
          }
        }
      ]
    },
    {
      "cell_type": "code",
      "source": [
        "# What if I want to plot two different measures like proft?\n",
        "# Let's say I have profit also\n",
        "profit = [40,2,34,12]\n",
        "#--------------------------------------------------------------\n",
        "# You can mention the plt.bar() two times but you can see what is happening is that it's being plotted in the same chart which is really ugly!\n",
        "plt.bar(company,revenue, label='revenue')\n",
        "plt.bar(company,profit, label='profit')\n",
        "plt.xlabel(\"Company\")\n",
        "# No need for y label as Revenue because we already know we are comparing revenue\n",
        "plt.title(\"US Tech Stocks\")\n",
        "plt.legend()"
      ],
      "metadata": {
        "colab": {
          "base_uri": "https://localhost:8080/",
          "height": 313
        },
        "id": "hNNK47hU-6j2",
        "outputId": "37c26a6c-7c66-4cb8-c120-9d7c5747d5cd"
      },
      "execution_count": 16,
      "outputs": [
        {
          "output_type": "execute_result",
          "data": {
            "text/plain": [
              "<matplotlib.legend.Legend at 0x7f2554a81760>"
            ]
          },
          "metadata": {},
          "execution_count": 16
        },
        {
          "output_type": "display_data",
          "data": {
            "text/plain": [
              "<Figure size 432x288 with 1 Axes>"
            ],
            "image/png": "[encoded data removed]"
          },
          "metadata": {
            "needs_background": "light"
          }
        }
      ]
    },
    {
      "cell_type": "code",
      "source": [
        "# I want to generate bars side by side, the reason this is happening because the x-position is the same for both of the plt.plot()\n",
        "plt.bar(company +1,revenue, label='revenue')\n",
        "plt.bar(company-1,profit, label='profit')\n",
        "plt.xlabel(\"Company\")\n",
        "# No need for y label as Revenue because we already know we are comparing revenue\n",
        "plt.title(\"US Tech Stocks\")\n",
        "plt.legend()"
      ],
      "metadata": {
        "colab": {
          "base_uri": "https://localhost:8080/",
          "height": 243
        },
        "id": "Gwp72lQ3AP9Q",
        "outputId": "044cc35b-59b7-4d52-dc24-a329e66c1159"
      },
      "execution_count": 18,
      "outputs": [
        {
          "output_type": "error",
          "ename": "TypeError",
          "evalue": "ignored",
          "traceback": [
            "\u001b[0;31m---------------------------------------------------------------------------\u001b[0m",
            "\u001b[0;31mTypeError\u001b[0m                                 Traceback (most recent call last)",
            "\u001b[0;32m<ipython-input-18-f292d5b452f3>\u001b[0m in \u001b[0;36m<module>\u001b[0;34m\u001b[0m\n\u001b[1;32m      1\u001b[0m \u001b[0;31m# I want to generate bars side by side, the reason this is happening because the x-position is the same for both of the plt.plot()\u001b[0m\u001b[0;34m\u001b[0m\u001b[0;34m\u001b[0m\u001b[0;34m\u001b[0m\u001b[0m\n\u001b[0;32m----> 2\u001b[0;31m \u001b[0mplt\u001b[0m\u001b[0;34m.\u001b[0m\u001b[0mbar\u001b[0m\u001b[0;34m(\u001b[0m\u001b[0mcompany\u001b[0m \u001b[0;34m+\u001b[0m\u001b[0;36m1\u001b[0m\u001b[0;34m,\u001b[0m\u001b[0mrevenue\u001b[0m\u001b[0;34m,\u001b[0m \u001b[0mlabel\u001b[0m\u001b[0;34m=\u001b[0m\u001b[0;34m'revenue'\u001b[0m\u001b[0;34m)\u001b[0m\u001b[0;34m\u001b[0m\u001b[0;34m\u001b[0m\u001b[0m\n\u001b[0m\u001b[1;32m      3\u001b[0m \u001b[0mplt\u001b[0m\u001b[0;34m.\u001b[0m\u001b[0mbar\u001b[0m\u001b[0;34m(\u001b[0m\u001b[0mcompany\u001b[0m\u001b[0;34m-\u001b[0m\u001b[0;36m1\u001b[0m\u001b[0;34m,\u001b[0m\u001b[0mprofit\u001b[0m\u001b[0;34m,\u001b[0m \u001b[0mlabel\u001b[0m\u001b[0;34m=\u001b[0m\u001b[0;34m'profit'\u001b[0m\u001b[0;34m)\u001b[0m\u001b[0;34m\u001b[0m\u001b[0;34m\u001b[0m\u001b[0m\n\u001b[1;32m      4\u001b[0m \u001b[0mplt\u001b[0m\u001b[0;34m.\u001b[0m\u001b[0mxlabel\u001b[0m\u001b[0;34m(\u001b[0m\u001b[0;34m\"Company\"\u001b[0m\u001b[0;34m)\u001b[0m\u001b[0;34m\u001b[0m\u001b[0;34m\u001b[0m\u001b[0m\n\u001b[1;32m      5\u001b[0m \u001b[0;31m# No need for y label as Revenue because we already know we are comparing revenue\u001b[0m\u001b[0;34m\u001b[0m\u001b[0;34m\u001b[0m\u001b[0;34m\u001b[0m\u001b[0m\n",
            "\u001b[0;31mTypeError\u001b[0m: can only concatenate list (not \"int\") to list"
          ]
        }
      ]
    },
    {
      "cell_type": "code",
      "source": [
        "# Now if you see the problem above we're facing is because the x postion for both of the plt.bar() function is same and we need to change their position\n",
        "# But there is a problem now, we need to change their postions but company is string and in-order to change their position in matplotlib we need to\n",
        "# subtract or add to the value so we'll convert these strings to int in a NumPy array"
      ],
      "metadata": {
        "id": "nGOt-SMJBRa-"
      },
      "execution_count": null,
      "outputs": []
    },
    {
      "cell_type": "code",
      "source": [
        "import numpy as np\n",
        "x = np.arange(1,5) # lenth of the array x should be the same length of the company array\n",
        "# Now to replace these values with these labels, you have to use xticks functions\n",
        "plt.xticks(x,company)\n",
        "# xtixks will replace the corresponding list values with names so 1 = Google, 2 = Amazon, 3 = Microsoft, 4 = Facebook\n",
        "plt.bar(x,revenue)"
      ],
      "metadata": {
        "colab": {
          "base_uri": "https://localhost:8080/",
          "height": 283
        },
        "id": "irEOJWmDCFGA",
        "outputId": "f12c3208-0c4b-43a4-b7e4-92c52441a0bb"
      },
      "execution_count": 28,
      "outputs": [
        {
          "output_type": "execute_result",
          "data": {
            "text/plain": [
              "<BarContainer object of 4 artists>"
            ]
          },
          "metadata": {},
          "execution_count": 28
        },
        {
          "output_type": "display_data",
          "data": {
            "text/plain": [
              "<Figure size 432x288 with 1 Axes>"
            ],
            "image/png": "[encoded data removed]"
          },
          "metadata": {
            "needs_background": "light"
          }
        }
      ]
    },
    {
      "cell_type": "code",
      "source": [
        "# We have changes the postion of the x axis by subtracting and adding 0.2 and now we can subtract or add because we have assigned the company list to the x array\n",
        "plt.bar(x+0.2,revenue, label='revenue')\n",
        "plt.bar(x-0.2,profit, label='profit')\n",
        "plt.xlabel(\"Company\")\n",
        "plt.title(\"US Tech Stocks\")\n",
        "plt.legend()"
      ],
      "metadata": {
        "colab": {
          "base_uri": "https://localhost:8080/",
          "height": 313
        },
        "id": "SMVH-2iZDpcJ",
        "outputId": "4634a10c-cdd9-464f-9ccc-a0f0f41ab89f"
      },
      "execution_count": 35,
      "outputs": [
        {
          "output_type": "execute_result",
          "data": {
            "text/plain": [
              "<matplotlib.legend.Legend at 0x7f25546eb0d0>"
            ]
          },
          "metadata": {},
          "execution_count": 35
        },
        {
          "output_type": "display_data",
          "data": {
            "text/plain": [
              "<Figure size 432x288 with 1 Axes>"
            ],
            "image/png": "[encoded data removed]"
          },
          "metadata": {
            "needs_background": "light"
          }
        }
      ]
    },
    {
      "cell_type": "code",
      "source": [
        "# It stil doesn't look perfect and now we need to control the width of it\n",
        "plt.bar(x+0.2,revenue, label='revenue', width=0.3)\n",
        "plt.bar(x-0.2,profit , label='profit', width=0.3)\n",
        "plt.xlabel(\"Company\")\n",
        "plt.title(\"US Tech Stocks\")\n",
        "plt.legend()\n",
        "\n",
        "# Now the bar chart look beatiful and awesome!"
      ],
      "metadata": {
        "colab": {
          "base_uri": "https://localhost:8080/",
          "height": 313
        },
        "id": "_BCgAOmkEPo8",
        "outputId": "c9e3ca3c-fd11-4cfe-f778-47d299cc7215"
      },
      "execution_count": 38,
      "outputs": [
        {
          "output_type": "execute_result",
          "data": {
            "text/plain": [
              "<matplotlib.legend.Legend at 0x7f2554564d60>"
            ]
          },
          "metadata": {},
          "execution_count": 38
        },
        {
          "output_type": "display_data",
          "data": {
            "text/plain": [
              "<Figure size 432x288 with 1 Axes>"
            ],
            "image/png": "[encoded data removed]"
          },
          "metadata": {
            "needs_background": "light"
          }
        }
      ]
    },
    {
      "cell_type": "code",
      "source": [
        "# Now you can also make horizontal bar chart if you don't want vertical bar chart, so for that instead of plt.bar() you can use plt.barh\n",
        "# NOTE: instead of width you'll always use height fucntion in barh\n",
        "plt.barh(x+0.2,revenue, label='revenue', height=0.3)\n",
        "plt.barh(x-0.2,profit , label='profit', height=0.3)\n",
        "\n",
        "plt.xlabel(\"Company\")\n",
        "plt.title(\"US Tech Stocks\")\n",
        "\n",
        "plt.legend()"
      ],
      "metadata": {
        "colab": {
          "base_uri": "https://localhost:8080/",
          "height": 313
        },
        "id": "sNJSc0u3F8La",
        "outputId": "c194e7b4-cbff-4c5d-8c70-78225c46caac"
      },
      "execution_count": 42,
      "outputs": [
        {
          "output_type": "execute_result",
          "data": {
            "text/plain": [
              "<matplotlib.legend.Legend at 0x7f255446dfa0>"
            ]
          },
          "metadata": {},
          "execution_count": 42
        },
        {
          "output_type": "display_data",
          "data": {
            "text/plain": [
              "<Figure size 432x288 with 1 Axes>"
            ],
            "image/png": "[encoded data removed]"
          },
          "metadata": {
            "needs_background": "light"
          }
        }
      ]
    }
  ]
}